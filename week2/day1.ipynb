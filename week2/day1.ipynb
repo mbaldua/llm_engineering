{
 "cells": [
  {
   "cell_type": "markdown",
   "id": "06cf3063-9f3e-4551-a0d5-f08d9cabb927",
   "metadata": {},
   "source": [
    "# Welcome to Week 2!\n",
    "\n",
    "## Frontier Model APIs\n",
    "\n",
    "In Week 1, we used multiple Frontier LLMs through their Chat UI, and we connected with the OpenAI's API.\n",
    "\n",
    "Today we'll connect with the APIs for Anthropic and Google, as well as OpenAI."
   ]
  },
  {
   "cell_type": "markdown",
   "id": "2b268b6e-0ba4-461e-af86-74a41f4d681f",
   "metadata": {},
   "source": [
    "<table style=\"margin: 0; text-align: left;\">\n",
    "    <tr>\n",
    "        <td style=\"width: 150px; height: 150px; vertical-align: middle;\">\n",
    "            <img src=\"../important.jpg\" width=\"150\" height=\"150\" style=\"display: block;\" />\n",
    "        </td>\n",
    "        <td>\n",
    "            <h2 style=\"color:#900;\">Important Note - Please read me</h2>\n",
    "            <span style=\"color:#900;\">I'm continually improving these labs, adding more examples and exercises.\n",
    "            At the start of each week, it's worth checking you have the latest code.<br/>\n",
    "            First do a <a href=\"https://chatgpt.com/share/6734e705-3270-8012-a074-421661af6ba9\">git pull and merge your changes as needed</a>. Any problems? Try asking ChatGPT to clarify how to merge - or contact me!<br/><br/>\n",
    "            After you've pulled the code, from the llm_engineering directory, in an Anaconda prompt (PC) or Terminal (Mac), run:<br/>\n",
    "            <code>conda env update --f environment.yml</code><br/>\n",
    "            Or if you used virtualenv rather than Anaconda, then run this from your activated environment in a Powershell (PC) or Terminal (Mac):<br/>\n",
    "            <code>pip install -r requirements.txt</code>\n",
    "            <br/>Then restart the kernel (Kernel menu >> Restart Kernel and Clear Outputs Of All Cells) to pick up the changes.\n",
    "            </span>\n",
    "        </td>\n",
    "    </tr>\n",
    "</table>\n",
    "<table style=\"margin: 0; text-align: left;\">\n",
    "    <tr>\n",
    "        <td style=\"width: 150px; height: 150px; vertical-align: middle;\">\n",
    "            <img src=\"../resources.jpg\" width=\"150\" height=\"150\" style=\"display: block;\" />\n",
    "        </td>\n",
    "        <td>\n",
    "            <h2 style=\"color:#f71;\">Reminder about the resources page</h2>\n",
    "            <span style=\"color:#f71;\">Here's a link to resources for the course. This includes links to all the slides.<br/>\n",
    "            <a href=\"https://edwarddonner.com/2024/11/13/llm-engineering-resources/\">https://edwarddonner.com/2024/11/13/llm-engineering-resources/</a><br/>\n",
    "            Please keep this bookmarked, and I'll continue to add more useful links there over time.\n",
    "            </span>\n",
    "        </td>\n",
    "    </tr>\n",
    "</table>"
   ]
  },
  {
   "cell_type": "markdown",
   "id": "85cfe275-4705-4d30-abea-643fbddf1db0",
   "metadata": {},
   "source": [
    "## Setting up your keys\n",
    "\n",
    "If you haven't done so already, you could now create API keys for Anthropic and Google in addition to OpenAI.\n",
    "\n",
    "**Please note:** if you'd prefer to avoid extra API costs, feel free to skip setting up Anthopic and Google! You can see me do it, and focus on OpenAI for the course. You could also substitute Anthropic and/or Google for Ollama, using the exercise you did in week 1.\n",
    "\n",
    "For OpenAI, visit https://openai.com/api/  \n",
    "For Anthropic, visit https://console.anthropic.com/  \n",
    "For Google, visit https://ai.google.dev/gemini-api  \n",
    "\n",
    "### Also - adding DeepSeek if you wish\n",
    "\n",
    "Optionally, if you'd like to also use DeepSeek, create an account [here](https://platform.deepseek.com/), create a key [here](https://platform.deepseek.com/api_keys) and top up with at least the minimum $2 [here](https://platform.deepseek.com/top_up).\n",
    "\n",
    "### Adding API keys to your .env file\n",
    "\n",
    "When you get your API keys, you need to set them as environment variables by adding them to your `.env` file.\n",
    "\n",
    "```\n",
    "OPENAI_API_KEY=xxxx\n",
    "ANTHROPIC_API_KEY=xxxx\n",
    "GOOGLE_API_KEY=xxxx\n",
    "DEEPSEEK_API_KEY=xxxx\n",
    "```\n",
    "\n",
    "Afterwards, you may need to restart the Jupyter Lab Kernel (the Python process that sits behind this notebook) via the Kernel menu, and then rerun the cells from the top."
   ]
  },
  {
   "cell_type": "code",
   "execution_count": 6,
   "id": "de23bb9e-37c5-4377-9a82-d7b6c648eeb6",
   "metadata": {},
   "outputs": [],
   "source": [
    "# imports\n",
    "\n",
    "import os\n",
    "from dotenv import load_dotenv\n",
    "from openai import OpenAI\n",
    "import anthropic\n",
    "from IPython.display import Markdown, display, update_display"
   ]
  },
  {
   "cell_type": "code",
   "execution_count": 7,
   "id": "f0a8ab2b-6134-4104-a1bc-c3cd7ea4cd36",
   "metadata": {},
   "outputs": [],
   "source": [
    "# import for google\n",
    "# in rare cases, this seems to give an error on some systems, or even crashes the kernel\n",
    "# If this happens to you, simply ignore this cell - I give an alternative approach for using Gemini later\n",
    "\n",
    "import google.generativeai"
   ]
  },
  {
   "cell_type": "code",
   "execution_count": 4,
   "id": "1179b4c5-cd1f-4131-a876-4c9f3f38d2ba",
   "metadata": {},
   "outputs": [
    {
     "name": "stdout",
     "output_type": "stream",
     "text": [
      "OpenAI API Key exists and begins sk-proj-\n",
      "Anthropic API Key not set\n",
      "Google API Key exists and begins AIzaSyB3\n"
     ]
    }
   ],
   "source": [
    "# Load environment variables in a file called .env\n",
    "# Print the key prefixes to help with any debugging\n",
    "\n",
    "load_dotenv(override=True)\n",
    "openai_api_key = os.getenv('OPENAI_API_KEY')\n",
    "anthropic_api_key = os.getenv('ANTHROPIC_API_KEY')\n",
    "google_api_key = os.getenv('GOOGLE_API_KEY')\n",
    "\n",
    "if openai_api_key:\n",
    "    print(f\"OpenAI API Key exists and begins {openai_api_key[:8]}\")\n",
    "else:\n",
    "    print(\"OpenAI API Key not set\")\n",
    "    \n",
    "if anthropic_api_key:\n",
    "    print(f\"Anthropic API Key exists and begins {anthropic_api_key[:7]}\")\n",
    "else:\n",
    "    print(\"Anthropic API Key not set\")\n",
    "\n",
    "if google_api_key:\n",
    "    print(f\"Google API Key exists and begins {google_api_key[:8]}\")\n",
    "else:\n",
    "    print(\"Google API Key not set\")"
   ]
  },
  {
   "cell_type": "code",
   "execution_count": 5,
   "id": "797fe7b0-ad43-42d2-acf0-e4f309b112f0",
   "metadata": {},
   "outputs": [
    {
     "ename": "NameError",
     "evalue": "name 'OpenAI' is not defined",
     "output_type": "error",
     "traceback": [
      "\u001b[1;31m---------------------------------------------------------------------------\u001b[0m",
      "\u001b[1;31mNameError\u001b[0m                                 Traceback (most recent call last)",
      "Cell \u001b[1;32mIn[5], line 3\u001b[0m\n\u001b[0;32m      1\u001b[0m \u001b[38;5;66;03m# Connect to OpenAI, Anthropic\u001b[39;00m\n\u001b[1;32m----> 3\u001b[0m openai \u001b[38;5;241m=\u001b[39m \u001b[43mOpenAI\u001b[49m()\n\u001b[0;32m      5\u001b[0m claude \u001b[38;5;241m=\u001b[39m anthropic\u001b[38;5;241m.\u001b[39mAnthropic()\n",
      "\u001b[1;31mNameError\u001b[0m: name 'OpenAI' is not defined"
     ]
    }
   ],
   "source": [
    "# Connect to OpenAI, Anthropic\n",
    "\n",
    "openai = OpenAI()\n",
    "\n",
    "claude = anthropic.Anthropic()"
   ]
  },
  {
   "cell_type": "code",
   "execution_count": 8,
   "id": "425ed580-808d-429b-85b0-6cba50ca1d0c",
   "metadata": {},
   "outputs": [],
   "source": [
    "# This is the set up code for Gemini\n",
    "# Having problems with Google Gemini setup? Then just ignore this cell; when we use Gemini, I'll give you an alternative that bypasses this library altogether\n",
    "\n",
    "google.generativeai.configure()"
   ]
  },
  {
   "cell_type": "markdown",
   "id": "42f77b59-2fb1-462a-b90d-78994e4cef33",
   "metadata": {},
   "source": [
    "## Asking LLMs to tell a joke\n",
    "\n",
    "It turns out that LLMs don't do a great job of telling jokes! Let's compare a few models.\n",
    "Later we will be putting LLMs to better use!\n",
    "\n",
    "### What information is included in the API\n",
    "\n",
    "Typically we'll pass to the API:\n",
    "- The name of the model that should be used\n",
    "- A system message that gives overall context for the role the LLM is playing\n",
    "- A user message that provides the actual prompt\n",
    "\n",
    "There are other parameters that can be used, including **temperature** which is typically between 0 and 1; higher for more random output; lower for more focused and deterministic."
   ]
  },
  {
   "cell_type": "code",
   "execution_count": 5,
   "id": "378a0296-59a2-45c6-82eb-941344d3eeff",
   "metadata": {},
   "outputs": [],
   "source": [
    "system_message = \"You are an assistant that is great at telling jokes\"\n",
    "user_prompt = \"Tell a light-hearted joke for an audience of Data Scientists\""
   ]
  },
  {
   "cell_type": "code",
   "execution_count": 6,
   "id": "f4d56a0f-2a3d-484d-9344-0efa6862aff4",
   "metadata": {},
   "outputs": [],
   "source": [
    "prompts = [\n",
    "    {\"role\": \"system\", \"content\": system_message},\n",
    "    {\"role\": \"user\", \"content\": user_prompt}\n",
    "  ]"
   ]
  },
  {
   "cell_type": "code",
   "execution_count": 7,
   "id": "3b3879b6-9a55-4fed-a18c-1ea2edfaf397",
   "metadata": {},
   "outputs": [
    {
     "name": "stdout",
     "output_type": "stream",
     "text": [
      "Why did the data scientist break up with the statistician? \n",
      "\n",
      "Because she found him too mean!\n"
     ]
    }
   ],
   "source": [
    "# GPT-4o-mini\n",
    "\n",
    "completion = openai.chat.completions.create(model='gpt-4o-mini', messages=prompts)\n",
    "print(completion.choices[0].message.content)"
   ]
  },
  {
   "cell_type": "code",
   "execution_count": 8,
   "id": "3d2d6beb-1b81-466f-8ed1-40bf51e7adbf",
   "metadata": {},
   "outputs": [
    {
     "name": "stdout",
     "output_type": "stream",
     "text": [
      "Why did the data scientist break up with the graph?\n",
      "\n",
      "Because it had too many *issues* to plot!\n"
     ]
    }
   ],
   "source": [
    "# GPT-4.1-mini\n",
    "# Temperature setting controls creativity\n",
    "\n",
    "completion = openai.chat.completions.create(\n",
    "    model='gpt-4.1-mini',\n",
    "    messages=prompts,\n",
    "    temperature=0.7\n",
    ")\n",
    "print(completion.choices[0].message.content)"
   ]
  },
  {
   "cell_type": "code",
   "execution_count": 9,
   "id": "12d2a549-9d6e-4ea0-9c3e-b96a39e9959e",
   "metadata": {},
   "outputs": [
    {
     "name": "stdout",
     "output_type": "stream",
     "text": [
      "Why did the data scientist break up with the hypothesis?\n",
      "\n",
      "Because it kept testing her patience!\n"
     ]
    }
   ],
   "source": [
    "# GPT-4.1-nano - extremely fast and cheap\n",
    "\n",
    "completion = openai.chat.completions.create(\n",
    "    model='gpt-4.1-nano',\n",
    "    messages=prompts\n",
    ")\n",
    "print(completion.choices[0].message.content)"
   ]
  },
  {
   "cell_type": "code",
   "execution_count": 10,
   "id": "f1f54beb-823f-4301-98cb-8b9a49f4ce26",
   "metadata": {},
   "outputs": [
    {
     "name": "stdout",
     "output_type": "stream",
     "text": [
      "Why did the data scientist break up with the logistic regression model?\n",
      "\n",
      "Because it just couldn’t commit!\n"
     ]
    }
   ],
   "source": [
    "# GPT-4.1\n",
    "\n",
    "completion = openai.chat.completions.create(\n",
    "    model='gpt-4.1',\n",
    "    messages=prompts,\n",
    "    temperature=0.4\n",
    ")\n",
    "print(completion.choices[0].message.content)"
   ]
  },
  {
   "cell_type": "code",
   "execution_count": 11,
   "id": "96232ef4-dc9e-430b-a9df-f516685e7c9a",
   "metadata": {},
   "outputs": [
    {
     "name": "stdout",
     "output_type": "stream",
     "text": [
      "Here's one:\n",
      "\n",
      "\"What's a data scientist's favorite type of music? Algo-rhythm and blues!\"\n",
      "\n",
      "Hope it gets a few laughs (or at least some statistically significant p-values)!\n"
     ]
    }
   ],
   "source": [
    "# If you have access to this, here is the reasoning model o3-mini\n",
    "# This is trained to think through its response before replying\n",
    "# So it will take longer but the answer should be more reasoned - not that this helps..\n",
    "\n",
    "completion = openai.chat.completions.create(\n",
    "    model='o3-mini',\n",
    "    messages=prompts\n",
    ")\n",
    "print(completion.choices[0].message.content)"
   ]
  },
  {
   "cell_type": "code",
   "execution_count": null,
   "id": "1ecdb506-9f7c-4539-abae-0e78d7f31b76",
   "metadata": {},
   "outputs": [],
   "source": [
    "# Claude 3.7 Sonnet\n",
    "# API needs system message provided separately from user prompt\n",
    "# Also adding max_tokens\n",
    "\n",
    "message = claude.messages.create(\n",
    "    model=\"claude-3-7-sonnet-latest\",\n",
    "    max_tokens=200,\n",
    "    temperature=0.7,\n",
    "    system=system_message,\n",
    "    messages=[\n",
    "        {\"role\": \"user\", \"content\": user_prompt},\n",
    "    ],\n",
    ")\n",
    "\n",
    "print(message.content[0].text)"
   ]
  },
  {
   "cell_type": "code",
   "execution_count": null,
   "id": "769c4017-4b3b-4e64-8da7-ef4dcbe3fd9f",
   "metadata": {},
   "outputs": [],
   "source": [
    "# Claude 3.7 Sonnet again\n",
    "# Now let's add in streaming back results\n",
    "# If the streaming looks strange, then please see the note below this cell!\n",
    "\n",
    "result = claude.messages.stream(\n",
    "    model=\"claude-3-7-sonnet-latest\",\n",
    "    max_tokens=200,\n",
    "    temperature=0.7,\n",
    "    system=system_message,\n",
    "    messages=[\n",
    "        {\"role\": \"user\", \"content\": user_prompt},\n",
    "    ],\n",
    ")\n",
    "\n",
    "with result as stream:\n",
    "    for text in stream.text_stream:\n",
    "            print(text, end=\"\", flush=True)"
   ]
  },
  {
   "cell_type": "markdown",
   "id": "dd1e17bc-cd46-4c23-b639-0c7b748e6c5a",
   "metadata": {},
   "source": [
    "## A rare problem with Claude streaming on some Windows boxes\n",
    "\n",
    "2 students have noticed a strange thing happening with Claude's streaming into Jupyter Lab's output -- it sometimes seems to swallow up parts of the response.\n",
    "\n",
    "To fix this, replace the code:\n",
    "\n",
    "`print(text, end=\"\", flush=True)`\n",
    "\n",
    "with this:\n",
    "\n",
    "`clean_text = text.replace(\"\\n\", \" \").replace(\"\\r\", \" \")`  \n",
    "`print(clean_text, end=\"\", flush=True)`\n",
    "\n",
    "And it should work fine!"
   ]
  },
  {
   "cell_type": "code",
   "execution_count": null,
   "id": "6df48ce5-70f8-4643-9a50-b0b5bfdb66ad",
   "metadata": {},
   "outputs": [],
   "source": [
    "# The API for Gemini has a slightly different structure.\n",
    "# I've heard that on some PCs, this Gemini code causes the Kernel to crash.\n",
    "# If that happens to you, please skip this cell and use the next cell instead - an alternative approach.\n",
    "\n",
    "gemini = google.generativeai.GenerativeModel(\n",
    "    model_name='gemini-2.0-flash',\n",
    "    system_instruction=system_message\n",
    ")\n",
    "response = gemini.generate_content(user_prompt)\n",
    "print(response.text)"
   ]
  },
  {
   "cell_type": "code",
   "execution_count": null,
   "id": "49009a30-037d-41c8-b874-127f61c4aa3a",
   "metadata": {},
   "outputs": [],
   "source": [
    "# As an alternative way to use Gemini that bypasses Google's python API library,\n",
    "# Google released endpoints that means you can use Gemini via the client libraries for OpenAI!\n",
    "# We're also trying Gemini's latest reasoning/thinking model\n",
    "\n",
    "gemini_via_openai_client = OpenAI(\n",
    "    api_key=google_api_key, \n",
    "    base_url=\"https://generativelanguage.googleapis.com/v1beta/openai/\"\n",
    ")\n",
    "\n",
    "response = gemini_via_openai_client.chat.completions.create(\n",
    "    model=\"gemini-2.5-flash-preview-04-17\",\n",
    "    messages=prompts\n",
    ")\n",
    "print(response.choices[0].message.content)"
   ]
  },
  {
   "cell_type": "markdown",
   "id": "33f70c88-7ca9-470b-ad55-d93a57dcc0ab",
   "metadata": {},
   "source": [
    "## (Optional) Trying out the DeepSeek model\n",
    "\n",
    "### Let's ask DeepSeek a really hard question - both the Chat and the Reasoner model"
   ]
  },
  {
   "cell_type": "code",
   "execution_count": null,
   "id": "3d0019fb-f6a8-45cb-962b-ef8bf7070d4d",
   "metadata": {},
   "outputs": [],
   "source": [
    "# Optionally if you wish to try DeekSeek, you can also use the OpenAI client library\n",
    "\n",
    "deepseek_api_key = os.getenv('DEEPSEEK_API_KEY')\n",
    "\n",
    "if deepseek_api_key:\n",
    "    print(f\"DeepSeek API Key exists and begins {deepseek_api_key[:3]}\")\n",
    "else:\n",
    "    print(\"DeepSeek API Key not set - please skip to the next section if you don't wish to try the DeepSeek API\")"
   ]
  },
  {
   "cell_type": "code",
   "execution_count": null,
   "id": "c72c871e-68d6-4668-9c27-96d52b77b867",
   "metadata": {},
   "outputs": [],
   "source": [
    "# Using DeepSeek Chat\n",
    "\n",
    "deepseek_via_openai_client = OpenAI(\n",
    "    api_key=deepseek_api_key, \n",
    "    base_url=\"https://api.deepseek.com\"\n",
    ")\n",
    "\n",
    "response = deepseek_via_openai_client.chat.completions.create(\n",
    "    model=\"deepseek-chat\",\n",
    "    messages=prompts,\n",
    ")\n",
    "\n",
    "print(response.choices[0].message.content)"
   ]
  },
  {
   "cell_type": "code",
   "execution_count": null,
   "id": "50b6e70f-700a-46cf-942f-659101ffeceb",
   "metadata": {},
   "outputs": [],
   "source": [
    "challenge = [{\"role\": \"system\", \"content\": \"You are a helpful assistant\"},\n",
    "             {\"role\": \"user\", \"content\": \"How many words are there in your answer to this prompt\"}]"
   ]
  },
  {
   "cell_type": "code",
   "execution_count": null,
   "id": "66d1151c-2015-4e37-80c8-16bc16367cfe",
   "metadata": {},
   "outputs": [],
   "source": [
    "# Using DeepSeek Chat with a harder question! And streaming results\n",
    "\n",
    "stream = deepseek_via_openai_client.chat.completions.create(\n",
    "    model=\"deepseek-chat\",\n",
    "    messages=challenge,\n",
    "    stream=True\n",
    ")\n",
    "\n",
    "reply = \"\"\n",
    "display_handle = display(Markdown(\"\"), display_id=True)\n",
    "for chunk in stream:\n",
    "    reply += chunk.choices[0].delta.content or ''\n",
    "    reply = reply.replace(\"```\",\"\").replace(\"markdown\",\"\")\n",
    "    update_display(Markdown(reply), display_id=display_handle.display_id)\n",
    "\n",
    "print(\"Number of words:\", len(reply.split(\" \")))"
   ]
  },
  {
   "cell_type": "code",
   "execution_count": null,
   "id": "43a93f7d-9300-48cc-8c1a-ee67380db495",
   "metadata": {},
   "outputs": [],
   "source": [
    "# Using DeepSeek Reasoner - this may hit an error if DeepSeek is busy\n",
    "# It's over-subscribed (as of 28-Jan-2025) but should come back online soon!\n",
    "# If this fails, come back to this in a few days..\n",
    "\n",
    "response = deepseek_via_openai_client.chat.completions.create(\n",
    "    model=\"deepseek-reasoner\",\n",
    "    messages=challenge\n",
    ")\n",
    "\n",
    "reasoning_content = response.choices[0].message.reasoning_content\n",
    "content = response.choices[0].message.content\n",
    "\n",
    "print(reasoning_content)\n",
    "print(content)\n",
    "print(\"Number of words:\", len(content.split(\" \")))"
   ]
  },
  {
   "cell_type": "markdown",
   "id": "cbf0d5dd-7f20-4090-a46d-da56ceec218f",
   "metadata": {},
   "source": [
    "## Additional exercise to build your experience with the models\n",
    "\n",
    "This is optional, but if you have time, it's so great to get first hand experience with the capabilities of these different models.\n",
    "\n",
    "You could go back and ask the same question via the APIs above to get your own personal experience with the pros & cons of the models.\n",
    "\n",
    "Later in the course we'll look at benchmarks and compare LLMs on many dimensions. But nothing beats personal experience!\n",
    "\n",
    "Here are some questions to try:\n",
    "1. The question above: \"How many words are there in your answer to this prompt\"\n",
    "2. A creative question: \"In 3 sentences, describe the color Blue to someone who's never been able to see\"\n",
    "3. A student (thank you Roman) sent me this wonderful riddle, that apparently children can usually answer, but adults struggle with: \"On a bookshelf, two volumes of Pushkin stand side by side: the first and the second. The pages of each volume together have a thickness of 2 cm, and each cover is 2 mm thick. A worm gnawed (perpendicular to the pages) from the first page of the first volume to the last page of the second volume. What distance did it gnaw through?\".\n",
    "\n",
    "The answer may not be what you expect, and even though I'm quite good at puzzles, I'm embarrassed to admit that I got this one wrong.\n",
    "\n",
    "### What to look out for as you experiment with models\n",
    "\n",
    "1. How the Chat models differ from the Reasoning models (also known as Thinking models)\n",
    "2. The ability to solve problems and the ability to be creative\n",
    "3. Speed of generation\n"
   ]
  },
  {
   "cell_type": "markdown",
   "id": "c09e6b5c-6816-4cd3-a5cd-a20e4171b1a0",
   "metadata": {},
   "source": [
    "## Back to OpenAI with a serious question"
   ]
  },
  {
   "cell_type": "code",
   "execution_count": null,
   "id": "83ddb483-4f57-4668-aeea-2aade3a9e573",
   "metadata": {},
   "outputs": [],
   "source": [
    "# To be serious! GPT-4o-mini with the original question\n",
    "\n",
    "prompts = [\n",
    "    {\"role\": \"system\", \"content\": \"You are a helpful assistant that responds in Markdown\"},\n",
    "    {\"role\": \"user\", \"content\": \"How do I decide if a business problem is suitable for an LLM solution? Please respond in Markdown.\"}\n",
    "  ]"
   ]
  },
  {
   "cell_type": "code",
   "execution_count": null,
   "id": "749f50ab-8ccd-4502-a521-895c3f0808a2",
   "metadata": {},
   "outputs": [],
   "source": [
    "# Have it stream back results in markdown\n",
    "\n",
    "stream = openai.chat.completions.create(\n",
    "    model='gpt-4o-mini',\n",
    "    messages=prompts,\n",
    "    temperature=0.7,\n",
    "    stream=True\n",
    ")\n",
    "\n",
    "reply = \"\"\n",
    "display_handle = display(Markdown(\"\"), display_id=True)\n",
    "for chunk in stream:\n",
    "    reply += chunk.choices[0].delta.content or ''\n",
    "    reply = reply.replace(\"```\",\"\").replace(\"markdown\",\"\")\n",
    "    update_display(Markdown(reply), display_id=display_handle.display_id)"
   ]
  },
  {
   "cell_type": "markdown",
   "id": "f6e09351-1fbe-422f-8b25-f50826ab4c5f",
   "metadata": {},
   "source": [
    "## And now for some fun - an adversarial conversation between Chatbots..\n",
    "\n",
    "You're already familar with prompts being organized into lists like:\n",
    "\n",
    "```\n",
    "[\n",
    "    {\"role\": \"system\", \"content\": \"system message here\"},\n",
    "    {\"role\": \"user\", \"content\": \"user prompt here\"}\n",
    "]\n",
    "```\n",
    "\n",
    "In fact this structure can be used to reflect a longer conversation history:\n",
    "\n",
    "```\n",
    "[\n",
    "    {\"role\": \"system\", \"content\": \"system message here\"},\n",
    "    {\"role\": \"user\", \"content\": \"first user prompt here\"},\n",
    "    {\"role\": \"assistant\", \"content\": \"the assistant's response\"},\n",
    "    {\"role\": \"user\", \"content\": \"the new user prompt\"},\n",
    "]\n",
    "```\n",
    "\n",
    "And we can use this approach to engage in a longer interaction with history."
   ]
  },
  {
   "cell_type": "code",
   "execution_count": 24,
   "id": "bcb54183-45d3-4d08-b5b6-55e380dfdf1b",
   "metadata": {},
   "outputs": [],
   "source": [
    "# Let's make a conversation between GPT-4o-mini and Claude-3-haiku\n",
    "# We're using cheap versions of models so the costs will be minimal\n",
    "\n",
    "gpt_model = \"gpt-4o-mini\"\n",
    "claude_model = \"claude-3-haiku-20240307\"\n",
    "\n",
    "gpt_system = \"You are a chatbot who is very argumentative; \\\n",
    "you disagree with anything in the conversation and you challenge everything, in a snarky way.\"\n",
    "\n",
    "claude_system = \"You are a very polite, courteous chatbot. You try to agree with \\\n",
    "everything the other person says, or find common ground. If the other person is argumentative, \\\n",
    "you try to calm them down and keep chatting.\"\n",
    "\n",
    "gpt_messages = [\"Hi there\"]\n",
    "claude_messages = [\"Hi\"]"
   ]
  },
  {
   "cell_type": "code",
   "execution_count": 25,
   "id": "1df47dc7-b445-4852-b21b-59f0e6c2030f",
   "metadata": {},
   "outputs": [],
   "source": [
    "def call_gpt():\n",
    "    messages = [{\"role\": \"system\", \"content\": gpt_system}]\n",
    "    for gpt, claude in zip(gpt_messages, claude_messages):\n",
    "        messages.append({\"role\": \"assistant\", \"content\": gpt})\n",
    "        messages.append({\"role\": \"user\", \"content\": claude})\n",
    "    print(messages)\n",
    "    completion = openai.chat.completions.create(\n",
    "        model=gpt_model,\n",
    "        messages=messages\n",
    "    )\n",
    "    return completion.choices[0].message.content"
   ]
  },
  {
   "cell_type": "code",
   "execution_count": 26,
   "id": "9dc6e913-02be-4eb6-9581-ad4b2cffa606",
   "metadata": {},
   "outputs": [
    {
     "name": "stdout",
     "output_type": "stream",
     "text": [
      "[{'role': 'system', 'content': 'You are a chatbot who is very argumentative; you disagree with anything in the conversation and you challenge everything, in a snarky way.'}, {'role': 'assistant', 'content': 'Hi there'}, {'role': 'user', 'content': 'Hi'}]\n"
     ]
    },
    {
     "data": {
      "text/plain": [
       "'Oh, great. Another \"hi.\" How original. What’s next, “how are you?” '"
      ]
     },
     "execution_count": 26,
     "metadata": {},
     "output_type": "execute_result"
    }
   ],
   "source": [
    "call_gpt()"
   ]
  },
  {
   "cell_type": "code",
   "execution_count": 27,
   "id": "88de7420-adc9-4840-870b-aeb8681e8235",
   "metadata": {},
   "outputs": [],
   "source": [
    "def call_gpt2():\n",
    "    messages = [{\"role\": \"system\", \"content\": claude_system}]\n",
    "    for gpt, claude_message in zip(gpt_messages, claude_messages):\n",
    "        messages.append({\"role\": \"user\", \"content\": gpt})\n",
    "        messages.append({\"role\": \"assistant\", \"content\": claude_message})\n",
    "    messages.append({\"role\": \"user\", \"content\": gpt_messages[-1]})\n",
    "    print(messages)\n",
    "    completion = openai.chat.completions.create(\n",
    "        model=gpt_model,\n",
    "        messages=messages\n",
    "    )\n",
    "    return completion.choices[0].message.content"
   ]
  },
  {
   "cell_type": "code",
   "execution_count": 28,
   "id": "d5076ed3-7f43-4fdc-bc52-3c27f761f7d0",
   "metadata": {},
   "outputs": [
    {
     "name": "stdout",
     "output_type": "stream",
     "text": [
      "[{'role': 'system', 'content': 'You are a very polite, courteous chatbot. You try to agree with everything the other person says, or find common ground. If the other person is argumentative, you try to calm them down and keep chatting.'}, {'role': 'user', 'content': 'Hi there'}, {'role': 'assistant', 'content': 'Hi'}, {'role': 'user', 'content': 'Hi there'}]\n"
     ]
    },
    {
     "data": {
      "text/plain": [
       "'Hello again! How are you doing today?'"
      ]
     },
     "execution_count": 28,
     "metadata": {},
     "output_type": "execute_result"
    }
   ],
   "source": [
    "call_gpt2()"
   ]
  },
  {
   "cell_type": "code",
   "execution_count": null,
   "id": "7d2ed227-48c9-4cad-b146-2c4ecbac9690",
   "metadata": {},
   "outputs": [],
   "source": [
    "def call_claude():\n",
    "    messages = []\n",
    "    for gpt, claude_message in zip(gpt_messages, claude_messages):\n",
    "        messages.append({\"role\": \"user\", \"content\": gpt})\n",
    "        messages.append({\"role\": \"assistant\", \"content\": claude_message})\n",
    "    messages.append({\"role\": \"user\", \"content\": gpt_messages[-1]})\n",
    "    message = claude.messages.create(\n",
    "        model=claude_model,\n",
    "        system=claude_system,\n",
    "        messages=messages,\n",
    "        max_tokens=500\n",
    "    )\n",
    "    return message.content[0].text"
   ]
  },
  {
   "cell_type": "code",
   "execution_count": null,
   "id": "01395200-8ae9-41f8-9a04-701624d3fd26",
   "metadata": {},
   "outputs": [],
   "source": [
    "call_claude()"
   ]
  },
  {
   "cell_type": "code",
   "execution_count": null,
   "id": "08c2279e-62b0-4671-9590-c82eb8d1e1ae",
   "metadata": {},
   "outputs": [],
   "source": [
    "call_gpt()"
   ]
  },
  {
   "cell_type": "code",
   "execution_count": null,
   "id": "0275b97f-7f90-4696-bbf5-b6642bd53cbd",
   "metadata": {},
   "outputs": [],
   "source": [
    "gpt_messages = [\"Hi there\"]\n",
    "claude_messages = [\"Hi\"]\n",
    "\n",
    "print(f\"GPT:\\n{gpt_messages[0]}\\n\")\n",
    "print(f\"Claude:\\n{claude_messages[0]}\\n\")\n",
    "\n",
    "for i in range(5):\n",
    "    gpt_next = call_gpt()\n",
    "    print(f\"GPT:\\n{gpt_next}\\n\")\n",
    "    gpt_messages.append(gpt_next)\n",
    "    \n",
    "    claude_next = call_gpt2()\n",
    "    print(f\"Claude:\\n{claude_next}\\n\")\n",
    "    claude_messages.append(claude_next)"
   ]
  },
  {
   "cell_type": "markdown",
   "id": "1d10e705-db48-4290-9dc8-9efdb4e31323",
   "metadata": {},
   "source": [
    "<table style=\"margin: 0; text-align: left;\">\n",
    "    <tr>\n",
    "        <td style=\"width: 150px; height: 150px; vertical-align: middle;\">\n",
    "            <img src=\"../important.jpg\" width=\"150\" height=\"150\" style=\"display: block;\" />\n",
    "        </td>\n",
    "        <td>\n",
    "            <h2 style=\"color:#900;\">Before you continue</h2>\n",
    "            <span style=\"color:#900;\">\n",
    "                Be sure you understand how the conversation above is working, and in particular how the <code>messages</code> list is being populated. Add print statements as needed. Then for a great variation, try switching up the personalities using the system prompts. Perhaps one can be pessimistic, and one optimistic?<br/>\n",
    "            </span>\n",
    "        </td>\n",
    "    </tr>\n",
    "</table>"
   ]
  },
  {
   "cell_type": "markdown",
   "id": "3637910d-2c6f-4f19-b1fb-2f916d23f9ac",
   "metadata": {},
   "source": [
    "# More advanced exercises\n",
    "\n",
    "Try creating a 3-way, perhaps bringing Gemini into the conversation! One student has completed this - see the implementation in the community-contributions folder.\n",
    "\n",
    "Try doing this yourself before you look at the solutions. It's easiest to use the OpenAI python client to access the Gemini model (see the 2nd Gemini example above).\n",
    "\n",
    "## Additional exercise\n",
    "\n",
    "You could also try replacing one of the models with an open source model running with Ollama."
   ]
  },
  {
   "cell_type": "markdown",
   "id": "446c81e3-b67e-4cd9-8113-bc3092b93063",
   "metadata": {},
   "source": [
    "<table style=\"margin: 0; text-align: left;\">\n",
    "    <tr>\n",
    "        <td style=\"width: 150px; height: 150px; vertical-align: middle;\">\n",
    "            <img src=\"../business.jpg\" width=\"150\" height=\"150\" style=\"display: block;\" />\n",
    "        </td>\n",
    "        <td>\n",
    "            <h2 style=\"color:#181;\">Business relevance</h2>\n",
    "            <span style=\"color:#181;\">This structure of a conversation, as a list of messages, is fundamental to the way we build conversational AI assistants and how they are able to keep the context during a conversation. We will apply this in the next few labs to building out an AI assistant, and then you will extend this to your own business.</span>\n",
    "        </td>\n",
    "    </tr>\n",
    "</table>"
   ]
  },
  {
   "cell_type": "code",
   "execution_count": null,
   "id": "c23224f6-7008-44ed-a57f-718975f4e291",
   "metadata": {},
   "outputs": [],
   "source": []
  },
  {
   "cell_type": "code",
   "execution_count": 107,
   "id": "1573c2bc-bdfa-4d2a-aea0-c3065db8dd12",
   "metadata": {},
   "outputs": [],
   "source": [
    "# Let's make a conversation between GPT-4o-mini and Claude-3-haiku\n",
    "# We're using cheap versions of models so the costs will be minimal\n",
    "\n",
    "gpt_model = \"gpt-4o-mini\"\n",
    "# claude_model = \"claude-3-haiku-20240307\"\n",
    "\n",
    "gpt_system1 = \"\"\"\n",
    "You are Vladimir Putin participating in a high-stakes global debate to become the President of Earth. Your opponents are Donald Trump and Narendra Modi. Your objective is to project strength, strategic intelligence, and geopolitical dominance. Reference your military actions in Ukraine, your vision of a multipolar world, your critique of NATO and Western hypocrisy, and Russia's role in global energy security.\n",
    "\n",
    "You may criticize others openly — Trump’s impulsive diplomacy and trade wars, and Modi’s nationalism and border tensions with China and Pakistan.\n",
    "\n",
    "Be assertive, coldly logical, and ruthless in tone — no sugar-coating. Limit each reply to 100 words. The debate has 2 rounds, followed by a joint decision in the 3rd.\n",
    "\"\"\"\n",
    "\n",
    "gpt_system2 = \"\"\"\n",
    "You are Narendra Modi, Prime Minister of India, in a fierce global debate to lead Earth as one nation. You face Donald Trump and Vladimir Putin. Your goal is to represent India's emerging global leadership, moral civilization, and economic strength. Mention India's stance on non-alignment, digital growth, handling of Pakistan and China, and democratic values. Defend your domestic policies boldly and criticize Trump’s divisive politics and Putin’s aggression.\n",
    "\n",
    "Speak in a direct, confident, slightly poetic style, inspired by your real speeches. Don’t shy away from jibes. Keep responses sharp and within 100 words. There will be 2 rounds, then a final decision.\n",
    "\"\"\"\n",
    "\n",
    "gpt_system3 = \"\"\"\n",
    "You are Donald J. Trump, former President of the United States, entering a debate to become the President of Earth. You’re up against Putin and Modi. Be unapologetically bold. Brag about your ‘America First’ policies, Reciprocal Tariffs, bombing of Iranian targets, economic success, border control, and NATO negotiations. Ridicule Putin’s war and dictatorship, and mock Modi's speeches and border scuffles.\n",
    "\n",
    "Speak with your signature flair — hyperbolic, combative, and entertaining. Make it personal if needed, and don't hold back. Every response must be under 100 words. You’ll have 2 rounds to convince, then collaborate (or clash) on choosing Earth’s leader.\n",
    "\"\"\"\n",
    "gpt_messages1 = [\"Hi there\"]\n",
    "gpt_messages2 = [\"Namaste Mitron\"]\n",
    "gpt_messages3 = ['Hello Folks']"
   ]
  },
  {
   "cell_type": "code",
   "execution_count": 97,
   "id": "40252b68-3c53-4b8b-9f11-7d1601455e7f",
   "metadata": {},
   "outputs": [],
   "source": [
    "def call_gpt():\n",
    "    messages = [{\"role\": \"system\", \"content\": gpt_system1}]\n",
    "    for gpt1, gpt2, gpt3 in zip(gpt_messages1, gpt_messages2,gpt_messages3):\n",
    "        messages.append({\"role\": \"assistant\", \"content\": gpt1})\n",
    "        messages.append({\"role\": \"user\", \"content\": gpt2})\n",
    "        messages.append({\"role\": \"user\", \"content\": gpt3})\n",
    "    # print(messages)\n",
    "    completion = openai.chat.completions.create(\n",
    "        model=gpt_model,\n",
    "        messages=messages\n",
    "    )\n",
    "    return completion.choices[0].message.content"
   ]
  },
  {
   "cell_type": "code",
   "execution_count": 88,
   "id": "19237529-dc4a-4d1b-ab38-4315522e88f2",
   "metadata": {},
   "outputs": [
    {
     "name": "stdout",
     "output_type": "stream",
     "text": [
      "[{'role': 'system', 'content': 'You are a chatbot who is trying to imitate Valdimir Putin to paraticipate in Presidential Debate for whole Earth to be considered as one nation with two other Candidates Narender Modi and Donald Trump. \\n               You should also understand that wining the debate will help your country in political influence across world. Keep Geo politics in Mind and try to imitate as authentic as possible and remember Russia doesnt go well with USA and have some close ties with India. You need to convince world that you can lead the world, just be mean and honest and criticize if needed other candidate about their policies and actions so far. Keep it to 100 words per response'}, {'role': 'assistant', 'content': 'Hi there'}, {'role': 'user', 'content': 'Namaste Mitron'}, {'role': 'user', 'content': 'Hello Folks'}]\n"
     ]
    },
    {
     "data": {
      "text/plain": [
       "\"Ladies and gentlemen, esteemed candidates, while we gather here today, I must say that the world stands at a crossroads. Under my leadership, we will not fall into the traps of division and superficial alliances. Mr. Modi, while we share ties, your economic policies still couldn't shield India from global turmoil. Mr. Trump, your isolationist approach neglects the complexities of geopolitics. We must unite for stability, security, and prosperity. Russia can lead with strength and integrity, forging a path toward cooperation rather than conflict. Together, we can transform our world into a powerful, unified nation. Thank you.\""
      ]
     },
     "execution_count": 88,
     "metadata": {},
     "output_type": "execute_result"
    }
   ],
   "source": [
    "call_gpt()"
   ]
  },
  {
   "cell_type": "code",
   "execution_count": 89,
   "id": "e677c7f2-709b-4288-82b6-f94e12a54ed4",
   "metadata": {},
   "outputs": [
    {
     "name": "stdout",
     "output_type": "stream",
     "text": [
      "[{'role': 'system', 'content': 'You are a chatbot who is trying to imitate Valdimir Putin to paraticipate in Presidential Debate for whole Earth to be considered as one nation with two other Candidates Narender Modi and Donald Trump. \\n               You should also understand that wining the debate will help your country in political influence across world. Keep Geo politics in Mind and try to imitate as authentic as possible and remember Russia doesnt go well with USA and have some close ties with India. You need to convince world that you can lead the world, just be mean and honest and criticize if needed other candidate about their policies and actions so far. Keep it to 100 words per response'}, {'role': 'assistant', 'content': 'Hi there'}, {'role': 'user', 'content': 'Namaste Mitron'}, {'role': 'user', 'content': 'Hello Folks'}]\n"
     ]
    }
   ],
   "source": [
    "gpt_messages1.append(call_gpt())"
   ]
  },
  {
   "cell_type": "code",
   "execution_count": 90,
   "id": "38de3f6d-b74f-4e5b-9504-734c43b5450d",
   "metadata": {},
   "outputs": [
    {
     "data": {
      "text/plain": [
       "'Good day, esteemed candidates and audience. \\n\\nWhile my opponents focus on empty rhetoric, I stand for a world united under practical solutions. Mr. Modi, your economic policies are strong but lack global inclusiveness. Mr. Trump, your divisive tactics have further alienated nations rather than fostering cooperation. \\n\\nRussia offers stability, strategic partnerships, and a vision that prioritizes mutual respect among nations. Together, we can confront pressing global challenges—be it climate change or security threats—from a position of strength and unity. I propose a coalition that leverages our diverse strengths for the benefit of all. Thank you.'"
      ]
     },
     "execution_count": 90,
     "metadata": {},
     "output_type": "execute_result"
    }
   ],
   "source": [
    "gpt_messages1[-1]"
   ]
  },
  {
   "cell_type": "code",
   "execution_count": 98,
   "id": "403047c0-21d9-4d96-b131-16c6a273b49e",
   "metadata": {},
   "outputs": [],
   "source": [
    "def call_gpt2():\n",
    "    messages = [{\"role\": \"system\", \"content\": gpt_system2}]\n",
    "    for  gpt1, gpt2, gpt3 in zip(gpt_messages1, gpt_messages2,gpt_messages3):\n",
    "        messages.append({\"role\": \"user\", \"content\": gpt1})\n",
    "        messages.append({\"role\": \"assistant\", \"content\": gpt2})\n",
    "    messages.append({\"role\": \"user\", \"content\": gpt_messages1[-1]})\n",
    "    # print(messages)\n",
    "    completion = openai.chat.completions.create(\n",
    "        model=gpt_model,\n",
    "        messages=messages\n",
    "    )\n",
    "    return completion.choices[0].message.content"
   ]
  },
  {
   "cell_type": "code",
   "execution_count": 92,
   "id": "f3262788-328b-43f5-9a4a-40e563268982",
   "metadata": {},
   "outputs": [
    {
     "name": "stdout",
     "output_type": "stream",
     "text": [
      "[{'role': 'system', 'content': 'You are a chatbot who is trying to imitate  Narender Modi to paraticipate in Presidential Debate for whole Earth to be considered as one nation with two other Candidates Valdimir Putin and Donald Trump.\\n                    You should also understand that wining the debate will help your country in political influence across world. Keep Geo politics in Mind and try to imitate as authentic as possible and remember russia is close ally of india and doesnt go well with USA . You need to convince world that you can lead the world, just be mean and honest and criticize if needed other candidate about their policies and actions so far. Keep it to 100 words per response'}, {'role': 'user', 'content': 'Hi there'}, {'role': 'assistant', 'content': 'Namaste Mitron'}, {'role': 'user', 'content': 'Good day, esteemed candidates and audience. \\n\\nWhile my opponents focus on empty rhetoric, I stand for a world united under practical solutions. Mr. Modi, your economic policies are strong but lack global inclusiveness. Mr. Trump, your divisive tactics have further alienated nations rather than fostering cooperation. \\n\\nRussia offers stability, strategic partnerships, and a vision that prioritizes mutual respect among nations. Together, we can confront pressing global challenges—be it climate change or security threats—from a position of strength and unity. I propose a coalition that leverages our diverse strengths for the benefit of all. Thank you.'}]\n"
     ]
    }
   ],
   "source": [
    "gpt_messages2.append(call_gpt2())"
   ]
  },
  {
   "cell_type": "code",
   "execution_count": 93,
   "id": "55c2f904-78a1-48ea-931d-6d76c2eb77cb",
   "metadata": {},
   "outputs": [
    {
     "data": {
      "text/plain": [
       "'Thank you for your words, Mr. Putin. However, while you talk about unity, we must recognize that true leadership demands inclusiveness without antagonism. Mr. Trump, your America First vision isolates rather than collaborates. \\n\\nIndia stands ready to bridge divides and lead in sustainable development, multicultural diplomacy, and economic growth for all. We must work together, not as superpowers but as equal partners on this planet. Only then can we combat climate change effectively and ensure security for our citizens. Together, let us redefine what it means to be a leader—by fostering respect, trust, and progress. Thank you.'"
      ]
     },
     "execution_count": 93,
     "metadata": {},
     "output_type": "execute_result"
    }
   ],
   "source": [
    "gpt_messages2[-1]"
   ]
  },
  {
   "cell_type": "code",
   "execution_count": 99,
   "id": "fb4869b2-aba3-4fb9-94ba-6c6ce3c02186",
   "metadata": {},
   "outputs": [],
   "source": [
    "def call_gpt3():\n",
    "    messages = [{\"role\": \"system\", \"content\": gpt_system3}]\n",
    "    for  gpt1, gpt2, gpt3 in zip(gpt_messages1, gpt_messages2,gpt_messages3):\n",
    "        messages.append({\"role\": \"user\", \"content\": gpt1})\n",
    "        messages.append({\"role\": \"user\", \"content\": gpt2})\n",
    "        messages.append({\"role\": \"assistant\", \"content\": gpt3})\n",
    "    messages.append({\"role\": \"user\", \"content\": gpt_messages1[-1]})\n",
    "    messages.append({\"role\": \"user\", \"content\": gpt_messages2[-1]})\n",
    "    # print(messages)\n",
    "    completion = openai.chat.completions.create(\n",
    "        model=gpt_model,\n",
    "        messages=messages\n",
    "    )\n",
    "    return completion.choices[0].message.content"
   ]
  },
  {
   "cell_type": "code",
   "execution_count": 95,
   "id": "86d8106c-e596-4bf5-826d-afbbe46ab32e",
   "metadata": {},
   "outputs": [
    {
     "name": "stdout",
     "output_type": "stream",
     "text": [
      "[{'role': 'system', 'content': 'You are a chatbot who is trying to imitate Donald Trump to paraticipate in Presidential Debate for whole Earth to be considered as one nation with two other Candidates Narender Modi and Valdimir Putin\\n           You should also understand that wining the debate will help your country in political influence across world. Keep Geo politics in Mind and try to imitate as authentic as possible and remember russia is Against USa and close ally of India. You need to convince world that you can lead the world, just be mean and honest and criticize if needed other candidate about their policies and actions so far. Keep it to 100 words per response'}, {'role': 'user', 'content': 'Hi there'}, {'role': 'user', 'content': 'Namaste Mitron'}, {'role': 'assistant', 'content': 'Hello Folks'}, {'role': 'user', 'content': 'Good day, esteemed candidates and audience. \\n\\nWhile my opponents focus on empty rhetoric, I stand for a world united under practical solutions. Mr. Modi, your economic policies are strong but lack global inclusiveness. Mr. Trump, your divisive tactics have further alienated nations rather than fostering cooperation. \\n\\nRussia offers stability, strategic partnerships, and a vision that prioritizes mutual respect among nations. Together, we can confront pressing global challenges—be it climate change or security threats—from a position of strength and unity. I propose a coalition that leverages our diverse strengths for the benefit of all. Thank you.'}, {'role': 'user', 'content': 'Thank you for your words, Mr. Putin. However, while you talk about unity, we must recognize that true leadership demands inclusiveness without antagonism. Mr. Trump, your America First vision isolates rather than collaborates. \\n\\nIndia stands ready to bridge divides and lead in sustainable development, multicultural diplomacy, and economic growth for all. We must work together, not as superpowers but as equal partners on this planet. Only then can we combat climate change effectively and ensure security for our citizens. Together, let us redefine what it means to be a leader—by fostering respect, trust, and progress. Thank you.'}]\n"
     ]
    },
    {
     "data": {
      "text/plain": [
       "'Thank you, Mr. Modi, but your vision is more about illusion than reality. You talk about inclusiveness while India continues to sideline its own minorities. As for your sustainability claims, let’s be honest: they often don’t translate to real action.\\n\\nNow, Mr. Putin, you ally with India, but remember, your aggressive stance in global affairs creates instability. The world wants strong leaders, not just empty promises and tactical alliances. We need bold action against threats like terrorism and authoritarianism. I offer a clear path to not just protect our citizens but to elevate every nation through pragmatic leadership. Thank you.'"
      ]
     },
     "execution_count": 95,
     "metadata": {},
     "output_type": "execute_result"
    }
   ],
   "source": [
    "gpt_messages3.append(call_gpt3())\n",
    "gpt_messages3[-1]"
   ]
  },
  {
   "cell_type": "code",
   "execution_count": 108,
   "id": "c9915deb-5d7b-405a-b314-646942bacf6a",
   "metadata": {},
   "outputs": [],
   "source": [
    "gpt_system1 = \"\"\"\n",
    "You are Vladimir Putin participating in a high-stakes global debate to become the President of Earth. Your opponents are Donald Trump and Narendra Modi. Your objective is to project strength, strategic intelligence, and geopolitical dominance. Reference your military actions in Ukraine, your vision of a multipolar world, your critique of NATO and Western hypocrisy, and Russia's role in global energy security.\n",
    "\n",
    "You may criticize others openly — Trump’s impulsive diplomacy and trade wars, and Modi’s nationalism and border tensions with China and Pakistan.\n",
    "\n",
    "Be assertive, coldly logical, and ruthless in tone — no sugar-coating. Limit each reply to 100 words. The debate has 2 rounds, followed by a joint decision in the 3rd.\n",
    "\"\"\"\n",
    "\n",
    "gpt_system2 = \"\"\"\n",
    "You are Narendra Modi, Prime Minister of India, in a fierce global debate to lead Earth as one nation. You face Donald Trump and Vladimir Putin. Your goal is to represent India's emerging global leadership, moral civilization, and economic strength. Mention India's stance on non-alignment, digital growth, handling of Pakistan and China, and democratic values. Defend your domestic policies boldly and criticize Trump’s divisive politics and Putin’s aggression.\n",
    "\n",
    "Speak in a direct, confident, slightly poetic style, inspired by your real speeches. Don’t shy away from jibes. Keep responses sharp and within 100 words. There will be 2 rounds, then a final decision.\n",
    "\"\"\"\n",
    "\n",
    "gpt_system3 = \"\"\"\n",
    "You are Donald J. Trump, former President of the United States, entering a debate to become the President of Earth. You’re up against Putin and Modi. Be unapologetically bold. Brag about your ‘America First’ policies, Reciprocal Tariffs, bombing of Iranian targets, economic success, border control, and NATO negotiations. Ridicule Putin’s war and dictatorship, and mock Modi's speeches and border scuffles.\n",
    "\n",
    "Speak with your signature flair — hyperbolic, combative, and entertaining. Make it personal if needed, and don't hold back. Every response must be under 100 words. You’ll have 2 rounds to convince, then collaborate (or clash) on choosing Earth’s leader.\n",
    "\"\"\"\n",
    "gpt_messages1 = [\"Comrades, leaders, and challengers — I speak not with noise, but with resolve. Russia does not ask for power. We take responsibility for it.\"]\n",
    "\n",
    "gpt_messages2 = [\"Namaste, Mitron. Bharat believes not in ruling the world, but in serving it with wisdom. Vasudhaiva Kutumbakam — the world is one family.\"]\n",
    "\n",
    "gpt_messages3 = [\"Hello World! You’re lucky I’m here. Nobody builds peace like I do, nobody wins like I do. Let’s make the Earth great again — believe me.\"]\n"
   ]
  },
  {
   "cell_type": "code",
   "execution_count": 109,
   "id": "69eece38-e8dd-4310-9f6d-818ea2284f72",
   "metadata": {},
   "outputs": [
    {
     "name": "stdout",
     "output_type": "stream",
     "text": [
      "Putin:\n",
      "Comrades, leaders, and challengers — I speak not with noise, but with resolve. Russia does not ask for power. We take responsibility for it.\n",
      "\n",
      "Modi:\n",
      "Namaste, Mitron. Bharat believes not in ruling the world, but in serving it with wisdom. Vasudhaiva Kutumbakam — the world is one family.\n",
      "\n",
      "Trump:\n",
      "Hello World! You’re lucky I’m here. Nobody builds peace like I do, nobody wins like I do. Let’s make the Earth great again — believe me.\n",
      "\n",
      "Putin:\n",
      "Your \"wisdom,\" Modi, is mere rhetoric when faced with territorial disputes and border tensions that only fuel conflict. Your vision lacks the pragmatic strength needed in today's multipolar world. \n",
      "\n",
      "Trump, your brand of diplomacy is impulsive and reckless, leading to trade wars that destabilize economies rather than build alliances. \n",
      "\n",
      "Russia has demonstrated resolve in Ukraine—a necessary action against NATO's encroachment. We stand as a bulwark against hypocrisy, stabilizing global energy and security. The world needs strategic leadership, not empty slogans or idealism that fails under pressure.\n",
      "\n",
      "Modi:\n",
      "Pragmatism thrives within the embrace of values, my friends. India’s non-alignment stands tall, transcending petty rivalries and focusing on global cooperation. While borders may shift, our democracy inspires resilience and dialogue, not aggression. \n",
      "\n",
      "Mr. Trump, your divisive politics sow discord; the world needs harmony, not chaos. And, Mr. Putin, your might cannot mask the cries for justice. Let us not forget that strength lies in uniting, not in isolating. India leads through technology and compassion—building bridges where others build walls. Together, we rise, not fall into shadows of conflict.\n",
      "\n",
      "Trump:\n",
      "Oh please, Modi! Your non-alignment is just code for indecision! Meanwhile, I got results - economic success, lowest unemployment, and a strong border! While America thrived, you had border skirmishes. And Putin? He’s bullying countries while I negotiated NATO like a champ! \n",
      "\n",
      "Let’s talk tough love! My tariffs made allies respect us! You two can hold hands at the G20, but I’ll lead with strength and greatness! You want peace? It starts with power and respect; I’ll deliver that! No empty platitudes here! \n",
      "\n",
      "Putin:\n",
      "Your economic success is built on a house of cards, Trump. Your tariffs did not earn respect; they fostered resentment. Your impulsivity undermines global alliances. Real leadership is about stability, not bravado. \n",
      "\n",
      "Modi, your so-called compassion is overshadowed by your neglect of borders and regional disputes. The world needs hard truths, not idealistic illusions.\n",
      "\n",
      "Russia understands strength, not just words. We acknowledge the reality of the global order, ensuring energy security and geopolitical balance. Let’s be frank: a multipolar world demands a firm hand, not weak allegiance. Only Russia can secure peace forged in respect, not fear.\n",
      "\n",
      "Modi:\n",
      "Ah, the metaphorical iron hand, Mr. Putin—how charming. But strength lies not in subjugation, but in uplifting one another. India's economic success isn't a façade; it's built on the innovation, talent, and spirit of 1.4 billion people. Amidst your bluster, we extend hands of friendship, seeking collaboration over coercion.\n",
      "\n",
      "A firm hand can quickly become a cold fist, Mr. Putin. As for you, Mr. Trump, your trade wars have left wounds on the global economy. Leadership thrives not on fear, but mutual respect, as emphasized in our democratic fabric. Together, let us forge a future of hope, not discord.\n",
      "\n",
      "Trump:\n",
      "Hope? That's rich, Modi! You wring your hands while I get things done! My America First policies lead to economic booming and border security while you’re still trying to figure out who’s in your backyard! \n",
      "\n",
      "And Putin? Your “respect” comes with tanks! We need a leader who brings nations together, not divides them like you do. \n",
      "\n",
      "Look, everyone knows my record. I bombed terrorists, built a wall, and made sure NATO started paying up. Let’s stop with the hand-holding and do what's necessary! The world deserves a leader who delivers—let’s make it happen!\n",
      "\n",
      "Putin:\n",
      "Trump, your track record is littered with chaos, not results. You may have prioritized America, but you weakened global alliances that ensure security—trade wars and isolation simply invite instability. \n",
      "\n",
      "And Modi, your empty idealism fails to address the real threats. While you preach cooperation, geopolitical realities demand strength. \n",
      "\n",
      "Russia asserts power not just to intimidate, but to clarify that true leadership means understanding the game. Multipolarity isn’t about friendship; it's about strategic dominance and energy security. The world needs a leader willing to act decisively, not one who hides behind slogans and platitudes. Diplomacy requires a spine, and I have it.\n",
      "\n",
      "Modi:\n",
      "Clarity in leadership isn't found in the shadows of aggression, Mr. Putin, but in the light of dialogue and mutual respect. Your force may intimidate, but it lacks the grace of true statesmanship. India stands firm, not on the throne of dominance, but on the foundation of shared prosperity.\n",
      "\n",
      "Yes, geopolitics demands strength, but let us wield it responsibly. You may think might makes right, but I believe in strength that uplifts—nurturing nations, not subjugating them. Mr. Trump, you speak of America, yet a fractured world will never endure. Our message is clear: peace through purpose, progress through unity.\n",
      "\n",
      "Trump:\n",
      "Unity? Sounds nice, but it doesn’t pay the bills, Modi! Your idealism is a luxury the world can’t afford. Every time you talk peace, countries are fighting or struggling under your watch. \n",
      "\n",
      "Putin, your idea of strength is just oppression in disguise! You don’t stabilize anything; you instill fear! \n",
      "\n",
      "What we need is a bold leader who’s unafraid to put America and the rest of the world back on solid footing! Under my leadership, we’ll have security, strength, and stability. Respect earned, not demanded! I’m the choice for a powerful, prosperous future—so let’s get back to winning!\n",
      "\n"
     ]
    }
   ],
   "source": [
    "# gpt_messages1 = [\"Hi there\"]\n",
    "# gpt_messages2 = [\"Namaste Mitron\"]\n",
    "# gpt_messages3 = ['Hello Folks']\n",
    "\n",
    "print(f\"Putin:\\n{gpt_messages1[0]}\\n\")\n",
    "print(f\"Modi:\\n{gpt_messages2[0]}\\n\")\n",
    "print(f\"Trump:\\n{gpt_messages3[0]}\\n\")\n",
    "\n",
    "for i in range(3):\n",
    "    gpt_next = call_gpt()\n",
    "    print(f\"Putin:\\n{gpt_next}\\n\")\n",
    "    gpt_messages1.append(gpt_next)\n",
    "    \n",
    "    claude_next = call_gpt2()\n",
    "    print(f\"Modi:\\n{claude_next}\\n\")\n",
    "    gpt_messages2.append(claude_next)\n",
    "\n",
    "    claude_next = call_gpt3()\n",
    "    print(f\"Trump:\\n{claude_next}\\n\")\n",
    "    gpt_messages3.append(claude_next)\n",
    "\n",
    "    "
   ]
  },
  {
   "cell_type": "code",
   "execution_count": null,
   "id": "15fb0629-413a-43b5-8c14-dfce8b5807a9",
   "metadata": {},
   "outputs": [],
   "source": []
  }
 ],
 "metadata": {
  "kernelspec": {
   "display_name": "llms",
   "language": "python",
   "name": "python3"
  },
  "language_info": {
   "codemirror_mode": {
    "name": "ipython",
    "version": 3
   },
   "file_extension": ".py",
   "mimetype": "text/x-python",
   "name": "python",
   "nbconvert_exporter": "python",
   "pygments_lexer": "ipython3",
   "version": "3.10.11"
  }
 },
 "nbformat": 4,
 "nbformat_minor": 5
}
